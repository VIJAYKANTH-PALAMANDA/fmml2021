{
  "nbformat": 4,
  "nbformat_minor": 0,
  "metadata": {
    "colab": {
      "name": "Mysolution_Case_at_madagascar.ipynb",
      "provenance": [],
      "authorship_tag": "ABX9TyPDh4OeqO6zalQFd01cHaRT",
      "include_colab_link": true
    },
    "kernelspec": {
      "name": "python3",
      "display_name": "Python 3"
    },
    "language_info": {
      "name": "python"
    }
  },
  "cells": [
    {
      "cell_type": "markdown",
      "metadata": {
        "id": "view-in-github",
        "colab_type": "text"
      },
      "source": [
        "<a href=\"https://colab.research.google.com/github/VIJAYKANTH-PALAMANDA/fmml2021/blob/main/Mysolution_Case_at_madagascar.ipynb\" target=\"_parent\"><img src=\"https://colab.research.google.com/assets/colab-badge.svg\" alt=\"Open In Colab\"/></a>"
      ]
    },
    {
      "cell_type": "code",
      "metadata": {
        "colab": {
          "base_uri": "https://localhost:8080/"
        },
        "id": "dBPpVbIlSAir",
        "outputId": "731acc0d-1efc-4a0c-fdc9-55e4f7152b45"
      },
      "source": [
        "!python --version"
      ],
      "execution_count": null,
      "outputs": [
        {
          "output_type": "stream",
          "name": "stdout",
          "text": [
            "Python 3.7.11\n"
          ]
        }
      ]
    },
    {
      "cell_type": "code",
      "metadata": {
        "colab": {
          "base_uri": "https://localhost:8080/"
        },
        "id": "jeZ1XiXdPUrU",
        "outputId": "9142d014-4ec6-4dd8-cc24-88bffef6ac4e"
      },
      "source": [
        "x = input(\"Enter the no. of records:\") #To take the number, how many records want to enter\n",
        "x = int(x)  #type casting\n",
        "y = 1\n",
        "Array_details = [] #initialising an array to store records\n",
        "while(y <= x):     #loop continues untill the number of records are recorded2\n",
        "  Citizen_Name = input(\"Enter the name of the \"+str(y)+\" Citizen:\")  #taking name of the citizen as input\n",
        "  Citizen_age = input(\"Enter the age of the \" + Citizen_Name + \":\")   #age as input\n",
        "  Citizen_Sugar_level = input(\"Enter the Sugar level of the \" + Citizen_Name + \":\")   #sugar_level as input\n",
        "  Citizen_pollutant_level = input(\"Enter the pollutant level of the \" + Citizen_Name + \":\")  #pollutant_level as input\n",
        "  Array_record = [Citizen_Name, Citizen_age, Citizen_Sugar_level, Citizen_pollutant_level] #making a record \n",
        "  Array_details.append(Array_record)  #appending the record into the array\n",
        "  y = y + 1\n",
        "print(\"\\nTotal Records entered\\n\")\n",
        "for record in Array_details:\n",
        "  print(record) #printing the records entered\n",
        "\n",
        "Age_weight = 0.05 #Given weight of age\n",
        "Blood_Sugar_weight = 0.002  #Given weight of Blood_sugar_level\n",
        "Pollutant_level_weight = 0.02  #Given weight of pollutant_level\n",
        "Risk_value_record = []  #initialising an array to store risk value\n",
        "for record in Array_details:\n",
        "  Risk_value = Age_weight * int(record[1]) + Blood_Sugar_weight * int(record[2]) + Pollutant_level_weight * int(record[3]) #calculating risk_value\n",
        "  Value_pair =[record[0], Risk_value] #combining risk_value and name into a record\n",
        "  Risk_value_record.append(Value_pair) #adding the record into the array\n",
        "print(\"\\nRisk-prone Citizens list and their Risk-prone value\\n\")\n",
        "print(\"Citizen Name\",\"Risk-prone value\", sep=\"\\t\")\n",
        "for record in Risk_value_record:\n",
        "  if(record[1] > 4.0):\n",
        "    print(record[0],round(record[1],2), sep=\"\\t\\t\") #printing only citizens list with >=4.0 risk_value."
      ],
      "execution_count": 1,
      "outputs": [
        {
          "output_type": "stream",
          "name": "stdout",
          "text": [
            "Enter the no. of records:4\n",
            "Enter the name of the 1 Citizen:AAA\n",
            "Enter the age of the AAA:20\n",
            "Enter the Sugar level of the AAA:122\n",
            "Enter the pollutant level of the AAA:20\n",
            "Enter the name of the 2 Citizen:AAB\n",
            "Enter the age of the AAB:35\n",
            "Enter the Sugar level of the AAB:180\n",
            "Enter the pollutant level of the AAB:35\n",
            "Enter the name of the 3 Citizen:ACA\n",
            "Enter the age of the ACA:50\n",
            "Enter the Sugar level of the ACA:220\n",
            "Enter the pollutant level of the ACA:65\n",
            "Enter the name of the 4 Citizen:ABB\n",
            "Enter the age of the ABB:70\n",
            "Enter the Sugar level of the ABB:300\n",
            "Enter the pollutant level of the ABB:30\n",
            "\n",
            "Total Records entered\n",
            "\n",
            "['AAA', '20', '122', '20']\n",
            "['AAB', '35', '180', '35']\n",
            "['ACA', '50', '220', '65']\n",
            "['ABB', '70', '300', '30']\n",
            "\n",
            "Risk-prone Citizens list and their Risk-prone value\n",
            "\n",
            "Citizen Name\tRisk-prone value\n",
            "ACA\t\t4.24\n",
            "ABB\t\t4.7\n"
          ]
        }
      ]
    }
  ]
}